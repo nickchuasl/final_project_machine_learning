{
 "cells": [
  {
   "cell_type": "code",
   "execution_count": 3,
   "id": "60f3c989",
   "metadata": {},
   "outputs": [],
   "source": [
    "import numpy as np"
   ]
  },
  {
   "cell_type": "code",
   "execution_count": 32,
   "id": "32d06bfe",
   "metadata": {},
   "outputs": [],
   "source": [
    "from pickle import load\n",
    "loaded_model = load(open('model.pkl', 'rb')) \n",
    "loaded_X_scaler = load(open('X_scaler.pkl', 'rb'))\n",
    "loaded_y_scaler = load(open('y_scaler.pkl', 'rb')) "
   ]
  },
  {
   "cell_type": "code",
   "execution_count": 41,
   "id": "569c5e8b",
   "metadata": {
    "scrolled": true
   },
   "outputs": [
    {
     "data": {
      "text/plain": [
       "array([[141690.8899897]])"
      ]
     },
     "execution_count": 41,
     "metadata": {},
     "output_type": "execute_result"
    }
   ],
   "source": [
    "data = [6,1068,1,264,1059.0,1068,1,6]\n",
    "arr = np.asarray([data])\n",
    "arr = loaded_X_scaler.transform(arr)\n",
    "reshape_arr = arr.reshape(1, -1)\n",
    "prediction_data = loaded_model.predict(reshape_arr)\n",
    "# prediction_amount = loaded_y_scaler.inverse_transform(prediction_data)\n",
    "# prediction_data\n",
    "# print(round(prediction_data[0][0],0))\n",
    "prediction_data"
   ]
  },
  {
   "cell_type": "code",
   "execution_count": null,
   "id": "42676f38",
   "metadata": {},
   "outputs": [],
   "source": [
    "reshape_arr = arr.reshape(1, -1)\n",
    "prediction_data = model.predict(reshape_arr)\n",
    "prediction_amount = y_scaler.inverse_transform(prediction_data)\n",
    "print(round(prediction_amount[0][0],0))"
   ]
  }
 ],
 "metadata": {
  "kernelspec": {
   "display_name": "Python 3",
   "language": "python",
   "name": "python3"
  },
  "language_info": {
   "codemirror_mode": {
    "name": "ipython",
    "version": 3
   },
   "file_extension": ".py",
   "mimetype": "text/x-python",
   "name": "python",
   "nbconvert_exporter": "python",
   "pygments_lexer": "ipython3",
   "version": "3.8.8"
  }
 },
 "nbformat": 4,
 "nbformat_minor": 5
}
