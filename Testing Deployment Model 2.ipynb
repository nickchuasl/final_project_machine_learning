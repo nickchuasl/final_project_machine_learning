{
 "cells": [
  {
   "cell_type": "code",
   "execution_count": 1,
   "id": "ac28e176",
   "metadata": {},
   "outputs": [],
   "source": [
    "import numpy as np"
   ]
  },
  {
   "cell_type": "code",
   "execution_count": 2,
   "id": "446a1706",
   "metadata": {},
   "outputs": [],
   "source": [
    "from pickle import load\n",
    "loaded_model = load(open('model.pkl', 'rb')) \n",
    "loaded_X_scaler = load(open('X_scaler.pkl', 'rb'))\n",
    "loaded_y_scaler = load(open('y_scaler.pkl', 'rb')) "
   ]
  },
  {
   "cell_type": "code",
   "execution_count": 4,
   "id": "50503f8e",
   "metadata": {},
   "outputs": [
    {
     "name": "stdout",
     "output_type": "stream",
     "text": [
      "289062.0\n"
     ]
    }
   ],
   "source": [
    "data = [8,2622,2,712,1463.0,1500,2,9]\n",
    "arr = np.asarray([data])\n",
    "arr = loaded_X_scaler.transform(arr)\n",
    "reshape_arr = arr.reshape(1, -1)\n",
    "prediction_data = loaded_model.predict(reshape_arr)\n",
    "print(round(prediction_data[0][0],0))"
   ]
  },
  {
   "cell_type": "code",
   "execution_count": null,
   "id": "d8ac9771",
   "metadata": {},
   "outputs": [],
   "source": []
  }
 ],
 "metadata": {
  "kernelspec": {
   "display_name": "Python 3",
   "language": "python",
   "name": "python3"
  },
  "language_info": {
   "codemirror_mode": {
    "name": "ipython",
    "version": 3
   },
   "file_extension": ".py",
   "mimetype": "text/x-python",
   "name": "python",
   "nbconvert_exporter": "python",
   "pygments_lexer": "ipython3",
   "version": "3.8.8"
  }
 },
 "nbformat": 4,
 "nbformat_minor": 5
}
